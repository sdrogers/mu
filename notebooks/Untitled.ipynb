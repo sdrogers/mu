{
 "cells": [
  {
   "cell_type": "code",
   "execution_count": 1,
   "metadata": {
    "collapsed": false
   },
   "outputs": [],
   "source": [
    "import matplotlib.pyplot as plt\n",
    "import numpy as np\n",
    "plt.style.use('ggplot')\n",
    "%matplotlib inline\n",
    "plt.rc('text',usetex=True)"
   ]
  },
  {
   "cell_type": "code",
   "execution_count": 2,
   "metadata": {
    "collapsed": true
   },
   "outputs": [],
   "source": [
    "datasets = ['par/LV/n34/GON34.csv','par/LV/n34/RBF34.csv','par/LV/n34/RK3G34.csv']"
   ]
  },
  {
   "cell_type": "code",
   "execution_count": 3,
   "metadata": {
    "collapsed": true
   },
   "outputs": [],
   "source": [
    "parameters = {'alpha':0.2,'beta':0.35,'gamma':0.7,'delta':0.4}\n"
   ]
  },
  {
   "cell_type": "code",
   "execution_count": 4,
   "metadata": {
    "collapsed": false
   },
   "outputs": [
    {
     "name": "stdout",
     "output_type": "stream",
     "text": [
      "50 4 3\n"
     ]
    }
   ],
   "source": [
    "#Load all the datasets\n",
    "values = {}\n",
    "for f in datasets:\n",
    "    values[f] = np.genfromtxt(f,delimiter=',')\n",
    "nreps, npars = values[datasets[0]].shape\n",
    "npars = len(parameters)\n",
    "nfiles = len(datasets)\n",
    "print nreps,npars,nfiles\n"
   ]
  },
  {
   "cell_type": "code",
   "execution_count": 32,
   "metadata": {
    "collapsed": false
   },
   "outputs": [
    {
     "name": "stdout",
     "output_type": "stream",
     "text": [
      "$\\displaystyle\\alpha$\n",
      "$\\displaystyle\\beta$\n",
      "$\\displaystyle\\gamma$\n",
      "$\\displaystyle\\delta$\n"
     ]
    },
    {
     "data": {
      "image/png": "[encoded data removed]",
      "text/plain": [
       "<matplotlib.figure.Figure at 0x10d938e90>"
      ]
     },
     "metadata": {},
     "output_type": "display_data"
    }
   ],
   "source": [
    "d = np.zeros((nreps,nfiles*npars),np.double)\n",
    "pos = 0\n",
    "plt.figure()\n",
    "ax = plt.axes()\n",
    "plt.hold(True)\n",
    "plt.plot([0.5,15.5],[0,0],'k--')\n",
    "start = 0\n",
    "end = 0\n",
    "d = np.zeros((nreps,nfiles*npars),np.double)\n",
    "for i,p in enumerate(parameters):\n",
    "    for j,f in enumerate(datasets):\n",
    "        d[:,pos] = values[f][:,i] - parameters[p]\n",
    "        pos+=1\n",
    "positions = [1,2,3,5,6,7,9,10,11,13,14,15]\n",
    "plt.boxplot(d,positions = positions,widths=0.5)\n",
    "# plt.rc('text',usetex=True)\n",
    "parnames = []\n",
    "for p in parameters:\n",
    "    s = r\"$\\displaystyle\\{}$\".format(p)\n",
    "    print s\n",
    "    parnames.append(s)\n",
    "plt.xticks([2,6,10,14],parnames,fontsize=16)\n",
    "plt.savefig('example.pdf')\n",
    "        \n",
    "    "
   ]
  },
  {
   "cell_type": "code",
   "execution_count": 31,
   "metadata": {
    "collapsed": false
   },
   "outputs": [
    {
     "data": {
      "text/plain": [
       "<matplotlib.figure.Figure at 0x10d5aa0d0>"
      ]
     },
     "metadata": {},
     "output_type": "display_data"
    }
   ],
   "source": [
    "plt.savefig('example.pdf')"
   ]
  },
  {
   "cell_type": "code",
   "execution_count": null,
   "metadata": {
    "collapsed": true
   },
   "outputs": [],
   "source": []
  }
 ],
 "metadata": {
  "kernelspec": {
   "display_name": "Python 2",
   "language": "python",
   "name": "python2"
  },
  "language_info": {
   "codemirror_mode": {
    "name": "ipython",
    "version": 2
   },
   "file_extension": ".py",
   "mimetype": "text/x-python",
   "name": "python",
   "nbconvert_exporter": "python",
   "pygments_lexer": "ipython2",
   "version": "2.7.10"
  }
 },
 "nbformat": 4,
 "nbformat_minor": 0
}
