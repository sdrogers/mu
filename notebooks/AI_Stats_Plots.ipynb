{
 "cells": [
  {
   "cell_type": "code",
   "execution_count": 171,
   "metadata": {
    "collapsed": false
   },
   "outputs": [],
   "source": [
    "import matplotlib.pyplot as plt\n",
    "import numpy as np\n",
    "plt.style.use('ggplot')\n",
    "%matplotlib inline\n",
    "plt.rc('text',usetex=True)\n",
    "\n",
    "model = 'LV'\n",
    "# model = 'BioPath'\n",
    "\n",
    "# Valid values for LV\n",
    "n = 34\n",
    "# n = 51\n",
    "\n",
    "\n",
    "# Valid values for BioPath\n",
    "# n = 14\n",
    "# n = 28\n",
    "\n",
    "prefixes = {'LV': ['GON','RBF','RK3G'],'BioPath':['GON','MLP','RK3G']}\n",
    "\n"
   ]
  },
  {
   "cell_type": "code",
   "execution_count": 172,
   "metadata": {
    "collapsed": false
   },
   "outputs": [
    {
     "name": "stdout",
     "output_type": "stream",
     "text": [
      "['par/LV/n34/GON34.csv', 'par/LV/n34/RBF34.csv', 'par/LV/n34/RK3G34.csv']\n"
     ]
    }
   ],
   "source": [
    "datasets = ['par/{}/n{}/{}{}.csv'.format(model,n,i,n) for i in prefixes[model]]\n",
    "print datasets"
   ]
  },
  {
   "cell_type": "code",
   "execution_count": 173,
   "metadata": {
    "collapsed": false
   },
   "outputs": [],
   "source": [
    "parameters = {'LV': ['alpha','beta','gamma','delta'],\n",
    "             'BioPath':['k_1','k_2','k_3','k_4','k_5/k_6']}\n",
    "true_values = {'alpha':0.2,'beta':0.35,'gamma':0.7,'delta':0.4,'k_1':0.07,'k_2':0.6,'k_3':0.05,'k_4':0.3,'k_5/k_6':0.017/0.3}"
   ]
  },
  {
   "cell_type": "code",
   "execution_count": 174,
   "metadata": {
    "collapsed": false
   },
   "outputs": [
    {
     "name": "stdout",
     "output_type": "stream",
     "text": [
      "50 4 3\n"
     ]
    }
   ],
   "source": [
    "#Load all the datasets\n",
    "values = {}\n",
    "for f in datasets:\n",
    "    values[f] = np.genfromtxt(f,delimiter=',')\n",
    "    if model == 'BioPath':\n",
    "        values[f][:,4] = values[f][:,4]/values[f][:,5]\n",
    "nreps, npars = values[datasets[0]].shape\n",
    "\n",
    "    \n",
    "\n",
    "npars = len(parameters[model])\n",
    "nfiles = len(datasets)\n",
    "print nreps,npars,nfiles\n"
   ]
  },
  {
   "cell_type": "code",
   "execution_count": 175,
   "metadata": {
    "collapsed": false,
    "scrolled": false
   },
   "outputs": [
    {
     "name": "stdout",
     "output_type": "stream",
     "text": [
      "$\\displaystyle\\alpha$\n",
      "$\\displaystyle\\beta$\n",
      "$\\displaystyle\\gamma$\n",
      "$\\displaystyle\\delta$\n"
     ]
    },
    {
     "data": {
      "image/png": "[encoded data removed]",
      "text/plain": [
       "<matplotlib.figure.Figure at 0x10fdb2810>"
      ]
     },
     "metadata": {},
     "output_type": "display_data"
    }
   ],
   "source": [
    "d = np.zeros((nreps,nfiles*npars),np.double)\n",
    "pos = 0\n",
    "plt.figure()\n",
    "ax = plt.axes()\n",
    "plt.hold(True)\n",
    "\n",
    "tickpos = []\n",
    "positions = []\n",
    "pos = 0\n",
    "d = np.zeros((nreps,nfiles*npars),np.double)\n",
    "for i,p in enumerate(parameters[model]):\n",
    "    for j,f in enumerate(datasets):\n",
    "        d[:,pos] = values[f][:,i] - true_values[p]\n",
    "        pos+=1\n",
    "if model == 'LV':        \n",
    "    positions = [1,2,3,5,6,7,9,10,11,13,14,15]\n",
    "    ticks = [2,6,10,14]\n",
    "else:\n",
    "    positions = [1,2,3,5,6,7,9,10,11,13,14,15,17,18,19]\n",
    "    ticks = [2,6,10,14,18]\n",
    "\n",
    "    \n",
    "plt.plot([0.5,positions[-1]+0.5],[0,0],'k--')\n",
    "bp = plt.boxplot(d,positions = positions,widths=0.8)\n",
    "\n",
    "model_cols = {0:'red',1:'blue',2:'green'}\n",
    "for j in model_cols:\n",
    "    for i in np.arange(j,3*npars,3):\n",
    "        for q in ['boxes','medians']:\n",
    "            plt.setp(bp[q][i],color=model_cols[j],lw=1.0)\n",
    "        \n",
    "\n",
    "parnames = []\n",
    "for p in parameters[model]:\n",
    "    if model == 'LV':\n",
    "        s = r\"$\\displaystyle\\{}$\".format(p)\n",
    "    else:\n",
    "        s = r\"$\\displaystyle {}$\".format(p)\n",
    "    print s\n",
    "    parnames.append(s)\n",
    "plt.xticks(ticks,parnames,fontsize=16)\n",
    "plt.ylim([-0.3,0.3])\n",
    "\n",
    "\n",
    "import matplotlib.lines as mlines\n",
    "model1 = mlines.Line2D([], [], color='red',\n",
    "                          markersize=15, label=prefixes[model][0])\n",
    "model2 = mlines.Line2D([], [], color='blue',\n",
    "                          markersize=15, label=prefixes[model][1])\n",
    "\n",
    "model3 = mlines.Line2D([], [], color='green',\n",
    "                          markersize=15, label=prefixes[model][2])\n",
    "\n",
    "\n",
    "plt.legend(handles=[model1,model2,model3])\n",
    "\n",
    "filename = \"boxes_{}_n{}.pdf\".format(model,n)\n",
    "plt.savefig(filename)\n",
    "        \n",
    "    "
   ]
  },
  {
   "cell_type": "markdown",
   "metadata": {},
   "source": [
    "<h2>Stats tests</h2>"
   ]
  },
  {
   "cell_type": "code",
   "execution_count": 176,
   "metadata": {
    "collapsed": false
   },
   "outputs": [],
   "source": [
    "from scipy.stats import ttest_rel,ttest_1samp"
   ]
  },
  {
   "cell_type": "code",
   "execution_count": 185,
   "metadata": {
    "collapsed": false
   },
   "outputs": [
    {
     "name": "stdout",
     "output_type": "stream",
     "text": [
      "Parameter alpha, p-value 0.024796647416\n",
      "Parameter beta, p-value 0.000540939764889\n",
      "Parameter gamma, p-value 0.000478364500066\n",
      "Parameter delta, p-value 0.000575026970769\n"
     ]
    }
   ],
   "source": [
    "to_compare = [1,2]\n",
    "\n",
    "for i,p in enumerate(parameters[model]):\n",
    "    t,pv = ttest_1samp(np.abs(values[datasets[to_compare[0]]][:,i]-true_values[p])-np.abs(values[datasets[to_compare[1]]][:,i]-true_values[p]),0)\n",
    "    print \"Parameter {}, p-value {}\".format(p,pv)"
   ]
  },
  {
   "cell_type": "code",
   "execution_count": null,
   "metadata": {
    "collapsed": true
   },
   "outputs": [],
   "source": []
  }
 ],
 "metadata": {
  "kernelspec": {
   "display_name": "Python 2",
   "language": "python",
   "name": "python2"
  },
  "language_info": {
   "codemirror_mode": {
    "name": "ipython",
    "version": 2
   },
   "file_extension": ".py",
   "mimetype": "text/x-python",
   "name": "python",
   "nbconvert_exporter": "python",
   "pygments_lexer": "ipython2",
   "version": "2.7.10"
  }
 },
 "nbformat": 4,
 "nbformat_minor": 0
}
