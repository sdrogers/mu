{
 "cells": [
  {
   "cell_type": "code",
   "execution_count": 30,
   "metadata": {
    "collapsed": false
   },
   "outputs": [],
   "source": [
    "import matplotlib.pyplot as plt\n",
    "import numpy as np\n",
    "# plt.style.use('ggplot')\n",
    "%matplotlib inline\n",
    "plt.rc('text',usetex=True)\n",
    "\n",
    "# model = 'LV'\n",
    "model = 'BioPath'\n",
    "\n",
    "# Valid values for LV\n",
    "# n = 34\n",
    "# n = 51\n",
    "\n",
    "\n",
    "# Valid values for BioPath\n",
    "# n = 14\n",
    "n = 28\n",
    "\n",
    "prefixes = {'LV': ['GON','RBF','RK3G'],'BioPath':['GON','MLP','RK3G']}\n",
    "\n"
   ]
  },
  {
   "cell_type": "code",
   "execution_count": 31,
   "metadata": {
    "collapsed": false
   },
   "outputs": [
    {
     "name": "stdout",
     "output_type": "stream",
     "text": [
      "['par/BioPath/n28/GON28.csv', 'par/BioPath/n28/MLP28.csv', 'par/BioPath/n28/RK3G28.csv']\n"
     ]
    }
   ],
   "source": [
    "datasets = ['par/{}/n{}/{}{}.csv'.format(model,n,i,n) for i in prefixes[model]]\n",
    "print datasets"
   ]
  },
  {
   "cell_type": "code",
   "execution_count": 32,
   "metadata": {
    "collapsed": false
   },
   "outputs": [],
   "source": [
    "parameters = {'LV': ['alpha','beta','gamma','delta'],\n",
    "             'BioPath':['k_1','k_2','k_3','k_4','k_5/k_6']}\n",
    "true_values = {'alpha':0.2,'beta':0.35,'gamma':0.7,'delta':0.4,'k_1':0.07,'k_2':0.6,'k_3':0.05,'k_4':0.3,'k_5/k_6':0.017/0.3}"
   ]
  },
  {
   "cell_type": "code",
   "execution_count": 33,
   "metadata": {
    "collapsed": false
   },
   "outputs": [
    {
     "name": "stdout",
     "output_type": "stream",
     "text": [
      "42 5 3\n"
     ]
    }
   ],
   "source": [
    "#Load all the datasets\n",
    "values = {}\n",
    "for f in datasets:\n",
    "    values[f] = np.genfromtxt(f,delimiter=',')\n",
    "    if model == 'BioPath':\n",
    "        values[f][:,4] = values[f][:,4]/values[f][:,5]\n",
    "nreps, npars = values[datasets[0]].shape\n",
    "\n",
    "    \n",
    "\n",
    "npars = len(parameters[model])\n",
    "nfiles = len(datasets)\n",
    "print nreps,npars,nfiles\n"
   ]
  },
  {
   "cell_type": "markdown",
   "metadata": {},
   "source": [
    "<h2>Original plots</h2>"
   ]
  },
  {
   "cell_type": "code",
   "execution_count": 34,
   "metadata": {
    "collapsed": false,
    "scrolled": false
   },
   "outputs": [
    {
     "name": "stdout",
     "output_type": "stream",
     "text": [
      "$\\displaystyle k_1$\n",
      "$\\displaystyle k_2$\n",
      "$\\displaystyle k_3$\n",
      "$\\displaystyle k_4$\n",
      "$\\displaystyle k_5/k_6$\n"
     ]
    },
    {
     "data": {
      "image/png": "[encoded data removed]",
      "text/plain": [
       "<matplotlib.figure.Figure at 0x109521810>"
      ]
     },
     "metadata": {},
     "output_type": "display_data"
    }
   ],
   "source": [
    "d = np.zeros((nreps,nfiles*npars),np.double)\n",
    "pos = 0\n",
    "plt.figure()\n",
    "ax = plt.axes()\n",
    "plt.hold(True)\n",
    "\n",
    "tickpos = []\n",
    "positions = []\n",
    "pos = 0\n",
    "d = np.zeros((nreps,nfiles*npars),np.double)\n",
    "for i,p in enumerate(parameters[model]):\n",
    "    for j,f in enumerate(datasets):\n",
    "        d[:,pos] = values[f][:,i] - true_values[p]\n",
    "        pos+=1\n",
    "if model == 'LV':        \n",
    "    positions = [1,2,3,5,6,7,9,10,11,13,14,15]\n",
    "    ticks = [2,6,10,14]\n",
    "else:\n",
    "    positions = [1,2,3,5,6,7,9,10,11,13,14,15,17,18,19]\n",
    "    ticks = [2,6,10,14,18]\n",
    "\n",
    "    \n",
    "plt.plot([0.5,positions[-1]+0.5],[0,0],'k--')\n",
    "bp = plt.boxplot(d,positions = positions,widths=0.8)\n",
    "\n",
    "model_cols = {0:'red',1:'blue',2:'green'}\n",
    "for j in model_cols:\n",
    "    for i in np.arange(j,3*npars,3):\n",
    "        for q in ['boxes','medians']:\n",
    "            plt.setp(bp[q][i],color=model_cols[j],lw=1.0)\n",
    "        \n",
    "\n",
    "parnames = []\n",
    "for p in parameters[model]:\n",
    "    if model == 'LV':\n",
    "        s = r\"$\\displaystyle\\{}$\".format(p)\n",
    "    else:\n",
    "        s = r\"$\\displaystyle {}$\".format(p)\n",
    "    print s\n",
    "    parnames.append(s)\n",
    "plt.xticks(ticks,parnames,fontsize=16)\n",
    "plt.ylim([-0.3,0.3])\n",
    "\n",
    "\n",
    "import matplotlib.lines as mlines\n",
    "model1 = mlines.Line2D([], [], color='red',\n",
    "                          markersize=15, label=prefixes[model][0])\n",
    "model2 = mlines.Line2D([], [], color='blue',\n",
    "                          markersize=15, label='RKG2')\n",
    "\n",
    "model3 = mlines.Line2D([], [], color='green',\n",
    "                          markersize=15, label='RKG3')\n",
    "\n",
    "\n",
    "plt.legend(handles=[model1,model2,model3])\n",
    "\n",
    "filename = \"boxes_{}_n{}.pdf\".format(model,n)\n",
    "plt.savefig(filename)\n",
    "        \n",
    "    "
   ]
  },
  {
   "cell_type": "markdown",
   "metadata": {},
   "source": [
    "<h2>Stats tests</h2>"
   ]
  },
  {
   "cell_type": "code",
   "execution_count": 35,
   "metadata": {
    "collapsed": false
   },
   "outputs": [],
   "source": [
    "from scipy.stats import ttest_rel,ttest_1samp"
   ]
  },
  {
   "cell_type": "code",
   "execution_count": 37,
   "metadata": {
    "collapsed": false
   },
   "outputs": [
    {
     "name": "stdout",
     "output_type": "stream",
     "text": [
      "[             nan   2.75689300e-30   1.38585600e-01   8.36749300e-02\n",
      "   4.62779000e-02   5.82617700e-02   4.92767100e-22   5.76644500e-02\n",
      "   1.38151400e-02   7.60432500e-02   2.34706200e-02   0.00000000e+00\n",
      "   2.48750700e-02   1.41508000e-64   1.37084500e-01   9.95713900e-02\n",
      "   2.28187300e-02   7.88269700e-02   6.70266400e-02   1.26784900e-01\n",
      "   3.31319500e-30   1.37525100e-01   2.43007100e-02   6.61050000e-02\n",
      "   5.20222300e-02   7.68534100e-02   1.07695600e-05   5.38915300e-02\n",
      "   6.63031100e-02   8.32232700e-02   3.74511800e-02   5.30448800e-02\n",
      "   2.16498100e-02   2.90150800e-02   1.31678900e-01   7.91637500e-02\n",
      "   4.77578800e-02   2.66889900e-02   7.06842300e-02   6.72818500e-02\n",
      "   6.69537800e-02   9.66796900e-02]\n",
      "Parameter k_1, p-value nan\n",
      "[       nan  0.4071807  0.3446684  0.3580455  0.3932508  0.2127885\n",
      "  0.4590661  0.3945611  0.3885298  0.3522302  0.3590366  0.2801206\n",
      "  0.3965421  0.5510487  0.4011103  0.3596792  0.3822199  0.2785755\n",
      "  0.3575782  0.3616917  0.193162   0.2855964  0.3387227  0.3359609\n",
      "  0.3292662  0.2150572  0.3847065  0.3173252  0.2991556  0.3564581\n",
      "  0.2821708  0.3113646  0.491453   0.3186266  0.3931736  0.3304609\n",
      "  0.287072   0.3321261  0.2338445  0.2949951  0.2598687  0.3429309]\n",
      "Parameter k_2, p-value nan\n",
      "[              nan   1.44900900e-051   1.20989400e-016   9.53331000e-009\n",
      "   1.90183600e-019   1.05558800e-066   5.62094800e-013   2.27892300e-032\n",
      "   6.16437700e-006   1.07494300e-009   1.05577200e-007   8.47653100e-247\n",
      "   2.73231300e-012   1.18354800e-024   1.33325600e-053   9.29702900e-058\n",
      "   2.96211100e-008   2.10713400e-018   9.26702900e-044   2.32224800e-009\n",
      "   2.97786600e-032   3.75802600e-065   4.18497400e-008   9.62006200e-015\n",
      "   5.84016200e-010   2.90427500e-049   1.33271700e-006   3.63494700e-047\n",
      "   4.83261400e-044   3.16870600e-038   2.77991400e-004   3.23739100e-062\n",
      "   4.64273400e-007   9.30259200e-040   4.42640000e-043   2.09113700e-041\n",
      "   7.59729100e-079   5.62808600e-017   1.07791900e-073   9.48202500e-021\n",
      "   5.31487100e-024   2.24415000e-038]\n",
      "Parameter k_3, p-value nan\n",
      "[       nan  0.1381875  0.2797696  0.2675731  0.1944375  0.1717877\n",
      "  0.3467439  0.2729434  0.2163562  0.2296198  0.2564606  0.2374786\n",
      "  0.2692136  0.2379973  0.29845    0.2616762  0.236647   0.2016611\n",
      "  0.1793349  0.2406926  0.2002633  0.2144433  0.2872409  0.2448992\n",
      "  0.2965972  0.2011626  0.2581887  0.1331411  0.2318749  0.2266956\n",
      "  0.2407916  0.2084554  0.2869851  0.2595477  0.2438197  0.2489108\n",
      "  0.2072176  0.2260173  0.1826627  0.2236554  0.2047867  0.2574903]\n",
      "Parameter k_4, p-value nan\n",
      "[             nan   1.61375175e+05   1.74292638e-02   4.98214645e-02\n",
      "   1.58849538e-02   8.59005781e-03   2.56374887e-01   2.22969969e-02\n",
      "   1.77690497e-02   2.43318180e-02   3.30171234e-02   1.42109219e-02\n",
      "   1.89945662e-02   2.35456218e-02   1.72627228e-02   2.01896982e-02\n",
      "   4.81052437e-02   5.09634400e+05   1.73082896e-02   2.64381738e-02\n",
      "   1.70142307e-02   1.34298579e-02   7.79075730e-02   1.95601195e-02\n",
      "   4.95823959e-01   1.76024798e-02   1.31536976e+00   1.42029262e-02\n",
      "   2.17948155e-02   1.86111711e-02   1.40952883e-01   1.32928578e-02\n",
      "   4.96994366e-02   1.52982408e-02   1.48856843e-02   1.61404202e-02\n",
      "   2.02148534e-02   1.62544293e-02   1.48038585e-02   1.06466040e-01\n",
      "   2.38375403e-02   2.59486739e-02]\n",
      "Parameter k_5/k_6, p-value nan\n"
     ]
    }
   ],
   "source": [
    "to_compare = [1,2]\n",
    "\n",
    "for i,p in enumerate(parameters[model]):\n",
    "    t,pv = ttest_1samp(np.abs(values[datasets[to_compare[0]]][:,i]-true_values[p])-np.abs(values[datasets[to_compare[1]]][:,i]-true_values[p]),0)\n",
    "    print values[datasets[to_compare[0]]][:,i]\n",
    "    print \"Parameter {}, p-value {}\".format(p,pv)"
   ]
  },
  {
   "cell_type": "markdown",
   "metadata": {
    "collapsed": true
   },
   "source": [
    "<h2>Difference plot</h2>"
   ]
  },
  {
   "cell_type": "code",
   "execution_count": 22,
   "metadata": {
    "collapsed": false
   },
   "outputs": [
    {
     "name": "stdout",
     "output_type": "stream",
     "text": [
      "$\\displaystyle k_1$\n",
      "$\\displaystyle k_2$\n",
      "$\\displaystyle k_3$\n",
      "$\\displaystyle k_4$\n",
      "$\\displaystyle k_5/k_6$\n"
     ]
    },
    {
     "name": "stderr",
     "output_type": "stream",
     "text": [
      "/Library/Python/2.7/site-packages/matplotlib/cbook.py:2028: RuntimeWarning: invalid value encountered in less_equal\n",
      "  wiskhi = np.compress(x <= hival, x)\n",
      "/Library/Python/2.7/site-packages/matplotlib/cbook.py:2035: RuntimeWarning: invalid value encountered in greater_equal\n",
      "  wisklo = np.compress(x >= loval, x)\n",
      "/Library/Python/2.7/site-packages/matplotlib/cbook.py:2043: RuntimeWarning: invalid value encountered in less\n",
      "  np.compress(x < stats['whislo'], x),\n",
      "/Library/Python/2.7/site-packages/matplotlib/cbook.py:2044: RuntimeWarning: invalid value encountered in greater\n",
      "  np.compress(x > stats['whishi'], x)\n"
     ]
    },
    {
     "data": {
      "image/png": "[encoded data removed]",
      "text/plain": [
       "<matplotlib.figure.Figure at 0x109289090>"
      ]
     },
     "metadata": {},
     "output_type": "display_data"
    }
   ],
   "source": [
    "d = np.zeros((nreps,nfiles*npars),np.double)\n",
    "pos = 0\n",
    "plt.figure()\n",
    "ax = plt.axes()\n",
    "plt.hold(True)\n",
    "\n",
    "tickpos = []\n",
    "positions = []\n",
    "pos = 0\n",
    "d = np.zeros((nreps,nfiles*npars),np.double)\n",
    "for i,p in enumerate(parameters[model]):\n",
    "    for j,f in enumerate(datasets):\n",
    "        d[:,pos] = np.abs(values[f][:,i] - true_values[p])\n",
    "        pos+=1\n",
    "        \n",
    "        \n",
    "if model == 'LV':        \n",
    "#     positions = [1,2,3,5,6,7,9,10,11,13,14,15]\n",
    "    positions = [1,2,4,5,7,8,10,11]\n",
    "    ticks = [1.5,4.5,7.5,10.5]\n",
    "    plot_cols = [0,1,3,4,6,7,9,10]\n",
    "    d[:,0]-=d[:,2]\n",
    "    d[:,1]-=d[:,2]\n",
    "    d[:,2]-=d[:,2]\n",
    "    d[:,3]-=d[:,5]\n",
    "    d[:,4]-=d[:,5]\n",
    "    d[:,5]-=d[:,5]\n",
    "    d[:,6]-=d[:,8]\n",
    "    d[:,7]-=d[:,8]\n",
    "    d[:,8]-=d[:,8]\n",
    "    d[:,9]-=d[:,11]\n",
    "    d[:,10]-=d[:,11]\n",
    "    d[:,11]-=d[:,11]  \n",
    "\n",
    "    \n",
    "else:\n",
    "    \n",
    "#     positions = [1,2,3,5,6,7,9,10,11,13,14,15,17,18,19]\n",
    "    positions = [1,2,4,5,7,8,10,11,13,14]\n",
    "    ticks = [1.5,4.5,7.5,10.5,13.5]\n",
    "    plot_cols = [0,1,3,4,6,7,9,10,12,13]\n",
    "    d[:,0]-=d[:,2]\n",
    "    d[:,1]-=d[:,2]\n",
    "    d[:,2]-=d[:,2]\n",
    "    d[:,3]-=d[:,5]\n",
    "    d[:,4]-=d[:,5]\n",
    "    d[:,5]-=d[:,5]\n",
    "    d[:,6]-=d[:,8]\n",
    "    d[:,7]-=d[:,8]\n",
    "    d[:,8]-=d[:,8]\n",
    "    d[:,9]-=d[:,11]\n",
    "    d[:,10]-=d[:,11]\n",
    "    d[:,11]-=d[:,11]  \n",
    "    d[:,12]-=d[:,14]\n",
    "    d[:,13]-=d[:,14]\n",
    "    d[:,14]-=d[:,14]  \n",
    "\n",
    "\n",
    "    \n",
    "plt.plot([0.5,positions[-1]+0.5],[0,0],'k--')\n",
    "bp = plt.boxplot(d[:,plot_cols],positions = positions,widths=0.8)\n",
    "\n",
    "model_cols = {0:'red',1:'blue'}\n",
    "for j in model_cols:\n",
    "    for i in np.arange(j,2*npars,2):\n",
    "        for q in ['boxes','medians']:\n",
    "            plt.setp(bp[q][i],color=model_cols[j],lw=1.0)\n",
    "        \n",
    "\n",
    "parnames = []\n",
    "for p in parameters[model]:\n",
    "    if model == 'LV':\n",
    "        s = r\"$\\displaystyle\\{}$\".format(p)\n",
    "    else:\n",
    "        s = r\"$\\displaystyle {}$\".format(p)\n",
    "    print s\n",
    "    parnames.append(s)\n",
    "plt.xticks(ticks,parnames,fontsize=16)\n",
    "\n",
    "\n",
    "\n",
    "import matplotlib.lines as mlines\n",
    "model1 = mlines.Line2D([], [], color='red',\n",
    "                          markersize=15, label=prefixes[model][0])\n",
    "model2 = mlines.Line2D([], [], color='blue',\n",
    "                          markersize=15, label='RKG2')\n",
    "\n",
    "plt.ylim([-0.2,0.2])\n",
    "plt.legend(handles=[model1,model2])\n",
    "\n",
    "filename = \"boxes_diff_{}_n{}.pdf\".format(model,n)\n",
    "plt.savefig(filename)"
   ]
  },
  {
   "cell_type": "code",
   "execution_count": null,
   "metadata": {
    "collapsed": true
   },
   "outputs": [],
   "source": []
  }
 ],
 "metadata": {
  "kernelspec": {
   "display_name": "Python 2",
   "language": "python",
   "name": "python2"
  },
  "language_info": {
   "codemirror_mode": {
    "name": "ipython",
    "version": 2
   },
   "file_extension": ".py",
   "mimetype": "text/x-python",
   "name": "python",
   "nbconvert_exporter": "python",
   "pygments_lexer": "ipython2",
   "version": "2.7.10"
  }
 },
 "nbformat": 4,
 "nbformat_minor": 0
}
