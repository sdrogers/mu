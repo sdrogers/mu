{
 "cells": [
  {
   "cell_type": "code",
   "execution_count": 82,
   "metadata": {
    "collapsed": false
   },
   "outputs": [],
   "source": [
    "import matplotlib.pyplot as plt\n",
    "import numpy as np\n",
    "plt.style.use('ggplot')\n",
    "%matplotlib inline\n",
    "plt.rc('text',usetex=True)\n",
    "\n",
    "# model = 'LV'\n",
    "model = 'BioPath'\n",
    "\n",
    "# Valid values for LV\n",
    "# n = 34\n",
    "# n = 51\n",
    "\n",
    "\n",
    "# Valid values for BioPath\n",
    "n = 14\n",
    "# n = 28\n",
    "\n",
    "prefixes = {'LV': ['GON','RBF','RK3G'],'BioPath':['GON','MLP','RK3G']}\n",
    "\n"
   ]
  },
  {
   "cell_type": "code",
   "execution_count": 83,
   "metadata": {
    "collapsed": false
   },
   "outputs": [
    {
     "name": "stdout",
     "output_type": "stream",
     "text": [
      "['par/BioPath/n14/GON14.csv', 'par/BioPath/n14/MLP14.csv', 'par/BioPath/n14/RK3G14.csv']\n"
     ]
    }
   ],
   "source": [
    "datasets = ['par/{}/n{}/{}{}.csv'.format(model,n,i,n) for i in prefixes[model]]\n",
    "print datasets"
   ]
  },
  {
   "cell_type": "code",
   "execution_count": 84,
   "metadata": {
    "collapsed": false
   },
   "outputs": [],
   "source": [
    "parameters = {'LV': ['alpha','beta','gamma','delta'],\n",
    "             'BioPath':['k_1','k_2','k_3','k_4','k_5/k_6']}\n",
    "true_values = {'alpha':0.2,'beta':0.35,'gamma':0.7,'delta':0.4,'k_1':0.07,'k_2':0.6,'k_3':0.05,'k_4':0.3,'k_5/k_6':0.017/0.3}"
   ]
  },
  {
   "cell_type": "code",
   "execution_count": 85,
   "metadata": {
    "collapsed": false
   },
   "outputs": [
    {
     "name": "stdout",
     "output_type": "stream",
     "text": [
      "49 5 3\n"
     ]
    }
   ],
   "source": [
    "#Load all the datasets\n",
    "values = {}\n",
    "for f in datasets:\n",
    "    values[f] = np.genfromtxt(f,delimiter=',')\n",
    "    if model == 'BioPath':\n",
    "        values[f][:,4] = values[f][:,4]/values[f][:,5]\n",
    "nreps, npars = values[datasets[0]].shape\n",
    "\n",
    "    \n",
    "\n",
    "npars = len(parameters[model])\n",
    "nfiles = len(datasets)\n",
    "print nreps,npars,nfiles\n"
   ]
  },
  {
   "cell_type": "code",
   "execution_count": 93,
   "metadata": {
    "collapsed": false
   },
   "outputs": [
    {
     "ename": "TypeError",
     "evalue": "'Line2D' object has no attribute '__getitem__'",
     "output_type": "error",
     "traceback": [
      "\u001b[0;31m---------------------------------------------------------------------------\u001b[0m",
      "\u001b[0;31mTypeError\u001b[0m                                 Traceback (most recent call last)",
      "\u001b[0;32m<ipython-input-93-157b811bb069>\u001b[0m in \u001b[0;36m<module>\u001b[0;34m()\u001b[0m\n\u001b[1;32m     24\u001b[0m \u001b[0mplt\u001b[0m\u001b[0;34m.\u001b[0m\u001b[0mboxplot\u001b[0m\u001b[0;34m(\u001b[0m\u001b[0md\u001b[0m\u001b[0;34m,\u001b[0m\u001b[0mpositions\u001b[0m \u001b[0;34m=\u001b[0m \u001b[0mpositions\u001b[0m\u001b[0;34m,\u001b[0m\u001b[0mwidths\u001b[0m\u001b[0;34m=\u001b[0m\u001b[0;36m0.5\u001b[0m\u001b[0;34m)\u001b[0m\u001b[0;34m\u001b[0m\u001b[0m\n\u001b[1;32m     25\u001b[0m \u001b[0;34m\u001b[0m\u001b[0m\n\u001b[0;32m---> 26\u001b[0;31m \u001b[0mplt\u001b[0m\u001b[0;34m.\u001b[0m\u001b[0msetp\u001b[0m\u001b[0;34m(\u001b[0m\u001b[0mbp\u001b[0m\u001b[0;34m[\u001b[0m\u001b[0;36m0\u001b[0m\u001b[0;34m]\u001b[0m\u001b[0;34m[\u001b[0m\u001b[0;34m'boxes'\u001b[0m\u001b[0;34m]\u001b[0m\u001b[0;34m,\u001b[0m\u001b[0mcolor\u001b[0m\u001b[0;34m=\u001b[0m\u001b[0;34m'red'\u001b[0m\u001b[0;34m)\u001b[0m\u001b[0;34m\u001b[0m\u001b[0m\n\u001b[0m\u001b[1;32m     27\u001b[0m \u001b[0;34m\u001b[0m\u001b[0m\n\u001b[1;32m     28\u001b[0m \u001b[0;31m# parnames = []\u001b[0m\u001b[0;34m\u001b[0m\u001b[0;34m\u001b[0m\u001b[0m\n",
      "\u001b[0;31mTypeError\u001b[0m: 'Line2D' object has no attribute '__getitem__'"
     ]
    },
    {
     "data": {
      "image/png": "[encoded data removed]",
      "text/plain": [
       "<matplotlib.figure.Figure at 0x10f778f50>"
      ]
     },
     "metadata": {},
     "output_type": "display_data"
    }
   ],
   "source": [
    "d = np.zeros((nreps,nfiles*npars),np.double)\n",
    "pos = 0\n",
    "plt.figure()\n",
    "ax = plt.axes()\n",
    "plt.hold(True)\n",
    "\n",
    "tickpos = []\n",
    "positions = []\n",
    "pos = 0\n",
    "d = np.zeros((nreps,nfiles*npars),np.double)\n",
    "for i,p in enumerate(parameters[model]):\n",
    "    for j,f in enumerate(datasets):\n",
    "        d[:,pos] = values[f][:,i] - true_values[p]\n",
    "        pos+=1\n",
    "if model == 'LV':        \n",
    "    positions = [1,2,3,5,6,7,9,10,11,13,14,15]\n",
    "    ticks = [2,6,10,14]\n",
    "else:\n",
    "    positions = [1,2,3,5,6,7,9,10,11,13,14,15,17,18,19]\n",
    "    ticks = [2,6,10,14,18]\n",
    "\n",
    "    \n",
    "bp = plt.plot([0.5,positions[-1]+0.5],[0,0],'k--')\n",
    "plt.boxplot(d,positions = positions,widths=0.5)\n",
    "\n",
    "\n",
    "# parnames = []\n",
    "# for p in parameters[model]:\n",
    "#     if model == 'LV':\n",
    "#         s = r\"$\\displaystyle\\{}$\".format(p)\n",
    "#     else:\n",
    "#         s = r\"$\\displaystyle {}$\".format(p)\n",
    "#     print s\n",
    "#     parnames.append(s)\n",
    "# plt.xticks(ticks,parnames,fontsize=16)\n",
    "# plt.ylim([-0.2,0.2])\n",
    "# filename = \"boxes_{}_n{}.pdf\".format(model,n)\n",
    "# plt.savefig(filename)\n",
    "        \n",
    "    "
   ]
  },
  {
   "cell_type": "code",
   "execution_count": null,
   "metadata": {
    "collapsed": true
   },
   "outputs": [],
   "source": []
  }
 ],
 "metadata": {
  "kernelspec": {
   "display_name": "Python 2",
   "language": "python",
   "name": "python2"
  },
  "language_info": {
   "codemirror_mode": {
    "name": "ipython",
    "version": 2
   },
   "file_extension": ".py",
   "mimetype": "text/x-python",
   "name": "python",
   "nbconvert_exporter": "python",
   "pygments_lexer": "ipython2",
   "version": "2.7.10"
  }
 },
 "nbformat": 4,
 "nbformat_minor": 0
}
